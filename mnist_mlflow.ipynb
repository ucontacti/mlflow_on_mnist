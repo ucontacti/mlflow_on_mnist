{
 "cells": [
  {
   "attachments": {},
   "cell_type": "markdown",
   "metadata": {},
   "source": [
    "# Using MLflow to track and register ML models for the case of MNIST dataset\n",
    "\n",
    "**Prerequisites:**\n",
    "1. The basic machine learning libraries for python such as scikit-learn, pandas, numpy\n",
    "2. Already installed MLflow\n",
    "\n",
    "Initially to run MLflow locally we use SQLite backend in this case called mlflow.db"
   ]
  },
  {
   "cell_type": "code",
   "execution_count": null,
   "metadata": {},
   "outputs": [],
   "source": [
    "!mlflow ui --backend-store-uri sqlite:///mlflow.db"
   ]
  },
  {
   "attachments": {},
   "cell_type": "markdown",
   "metadata": {},
   "source": [
    "In this step we need to add an experminet to the MLflow"
   ]
  },
  {
   "cell_type": "code",
   "execution_count": 4,
   "metadata": {},
   "outputs": [
    {
     "name": "stderr",
     "output_type": "stream",
     "text": [
      "2023/01/11 11:55:16 INFO mlflow.tracking.fluent: Experiment with name 'mnist-mlflow' does not exist. Creating a new experiment.\n"
     ]
    },
    {
     "data": {
      "text/plain": [
       "<Experiment: artifact_location='./mlruns/1', creation_time=1673438116530, experiment_id='1', last_update_time=1673438116530, lifecycle_stage='active', name='mnist-mlflow', tags={}>"
      ]
     },
     "execution_count": 4,
     "metadata": {},
     "output_type": "execute_result"
    }
   ],
   "source": [
    "import mlflow\n",
    "\n",
    "\n",
    "mlflow.set_tracking_uri(\"sqlite:///mlflow.db\")\n",
    "mlflow.set_experiment(\"mnist-mlflow\")"
   ]
  },
  {
   "attachments": {},
   "cell_type": "markdown",
   "metadata": {},
   "source": [
    "Now we load and plot the MNIST data"
   ]
  },
  {
   "cell_type": "code",
   "execution_count": 5,
   "metadata": {},
   "outputs": [
    {
     "data": {
      "image/png": "[encoded data removed]",
      "text/plain": [
       "<Figure size 1000x300 with 4 Axes>"
      ]
     },
     "metadata": {},
     "output_type": "display_data"
    }
   ],
   "source": [
    "import matplotlib.pyplot as plt\n",
    "\n",
    "from sklearn import datasets, svm, metrics\n",
    "from sklearn.model_selection import train_test_split\n",
    "digits = datasets.load_digits()\n",
    "\n",
    "_, axes = plt.subplots(nrows=1, ncols=4, figsize=(10, 3))\n",
    "for ax, image, label in zip(axes, digits.images, digits.target):\n",
    "    ax.set_axis_off()\n",
    "    ax.imshow(image, cmap=plt.cm.gray_r, interpolation=\"nearest\")\n",
    "    ax.set_title(\"Training: %i\" % label)"
   ]
  },
  {
   "attachments": {},
   "cell_type": "markdown",
   "metadata": {},
   "source": [
    "Train a SVM modela with mlflow and score the accuracy metric"
   ]
  },
  {
   "cell_type": "code",
   "execution_count": 7,
   "metadata": {},
   "outputs": [],
   "source": [
    "with mlflow.start_run():\n",
    "\n",
    "    mlflow.log_artifact(\"models/preprocessor.b\", artifact_path=\"preprocessor\")\n",
    "    mlflow.set_tag(\"data scientist\", \"sali\")\n",
    "    \n",
    "    n_samples = len(digits.images)\n",
    "    data = digits.images.reshape((n_samples, -1))\n",
    "\n",
    "    # Split data into 50% train and 50% test subsets\n",
    "    X_train, X_test, y_train, y_test = train_test_split(\n",
    "        data, digits.target, test_size=0.5, shuffle=False\n",
    "    )\n",
    "    # Create a classifier: a support vector classifier\n",
    "    clf = svm.SVC(gamma=0.001)\n",
    "\n",
    "    mlflow.set_tag(\"model\", clf)\n",
    "    clf.fit(X_train, y_train)\n",
    "    y_pred = clf.predict(X_test)\n",
    "    accuracy = round(metrics.accuracy_score(y_test, y_pred),4)\n",
    "    mlflow.log_metric(\"accuracy\", accuracy)\n",
    "\n",
    "# You should be able to see the svm model registered in the mlflow"
   ]
  },
  {
   "attachments": {},
   "cell_type": "markdown",
   "metadata": {},
   "source": [
    "We can also extend the models to different approaches. \n",
    "Here we also use autolog which besides the model parameters we get the\n",
    "- MLmodel\n",
    "- conda yaml file, which defines the environment\n",
    "- requirements.txt\n",
    "- training confusion matrix\n",
    "- training precision recall curve"
   ]
  },
  {
   "cell_type": "code",
   "execution_count": 8,
   "metadata": {},
   "outputs": [
    {
     "name": "stderr",
     "output_type": "stream",
     "text": [
      "2023/01/11 12:02:55 WARNING mlflow.utils.autologging_utils: You are using an unsupported version of sklearn. If you encounter errors during autologging, try upgrading / downgrading sklearn to a supported version, or try upgrading MLflow.\n",
      "2023/01/11 12:02:58 WARNING mlflow.utils.autologging_utils: MLflow autologging encountered a warning: \"/home/ubuntu/miniconda3/envs/mlops/lib/python3.9/site-packages/_distutils_hack/__init__.py:33: UserWarning: Setuptools is replacing distutils.\"\n",
      "/home/ubuntu/miniconda3/envs/mlops/lib/python3.9/site-packages/sklearn/metrics/_classification.py:1334: UndefinedMetricWarning: Precision is ill-defined and being set to 0.0 in labels with no predicted samples. Use `zero_division` parameter to control this behavior.\n",
      "  _warn_prf(average, modifier, msg_start, len(result))\n"
     ]
    }
   ],
   "source": [
    "from sklearn.neighbors import KNeighborsClassifier\n",
    "from sklearn.ensemble import AdaBoostClassifier, RandomForestClassifier\n",
    "\n",
    "knn = KNeighborsClassifier()\n",
    "ada = AdaBoostClassifier(random_state=0)\n",
    "rf = RandomForestClassifier(random_state=0)\n",
    "svm = svm.SVC(gamma=0.001)\n",
    "\n",
    "models = [knn, ada, rf, svm]\n",
    "\n",
    "mlflow.sklearn.autolog()\n",
    "for model in models:\n",
    "    with mlflow.start_run():\n",
    "\n",
    "        mlflow.log_artifact(\"models/preprocessor.b\", artifact_path=\"preprocessor\")\n",
    "        mlflow.set_tag(\"data scientist\", \"sali\")\n",
    "        \n",
    "        n_samples = len(digits.images)\n",
    "        data = digits.images.reshape((n_samples, -1))\n",
    "\n",
    "        # Split data into 50% train and 50% test subsets\n",
    "        X_train, X_test, y_train, y_test = train_test_split(\n",
    "            data, digits.target, test_size=0.5, shuffle=False\n",
    "        )\n",
    "        # Create a classifier: a support vector classifier\n",
    "        clf = model\n",
    "\n",
    "        mlflow.set_tag(\"model\", clf)\n",
    "        clf.fit(X_train, y_train)\n",
    "        y_pred = clf.predict(X_test)\n",
    "        accuracy = round(metrics.accuracy_score(y_test, y_pred),4)\n",
    "        mlflow.log_metric(\"accuracy\", accuracy)"
   ]
  }
 ],
 "metadata": {
  "kernelspec": {
   "display_name": "mlops",
   "language": "python",
   "name": "python3"
  },
  "language_info": {
   "codemirror_mode": {
    "name": "ipython",
    "version": 3
   },
   "file_extension": ".py",
   "mimetype": "text/x-python",
   "name": "python",
   "nbconvert_exporter": "python",
   "pygments_lexer": "ipython3",
   "version": "3.9.15"
  },
  "orig_nbformat": 4,
  "vscode": {
   "interpreter": {
    "hash": "c6403e7e52764e97bf891f0bfccd05b4e92154707b09dd18ee75ff6a619bb8fe"
   }
  }
 },
 "nbformat": 4,
 "nbformat_minor": 2
}
